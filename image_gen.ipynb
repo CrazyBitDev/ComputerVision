{
 "cells": [
  {
   "cell_type": "code",
   "execution_count": 1,
   "metadata": {},
   "outputs": [],
   "source": [
    "import pandas as pd\n",
    "from matplotlib import pyplot as plt\n",
    "import seaborn as sns\n",
    "from scipy import stats\n",
    "\n",
    "from tensorboard.backend.event_processing.event_accumulator import EventAccumulator"
   ]
  },
  {
   "cell_type": "code",
   "execution_count": 3,
   "metadata": {},
   "outputs": [],
   "source": [
    "paths = {\n",
    "    \"ssd\": {\n",
    "        \"split_1\": \"./results/ssd/training/split_1/events.out.tfevents.1748736001.ip-10-192-12-217.79847.0\",\n",
    "        \"split_2\": \"./results/ssd/training/split_2/events.out.tfevents.1748736972.ip-10-192-12-217.79847.1\",\n",
    "        \"split_3\": \"./results/ssd/training/split_3/events.out.tfevents.1748737976.ip-10-192-12-217.79847.2\",\n",
    "        \"split_4\": \"./results/ssd/training/split_4/events.out.tfevents.1748739021.ip-10-192-12-217.79847.3\"\n",
    "    },\n",
    "    \"yolo\": {\n",
    "        \"split_1\": \"./results/yolo/training/split_1/events.out.tfevents.1748475122.ip-10-192-11-39.8503.0\",\n",
    "        \"split_2\": \"./results/yolo/training/split_2/events.out.tfevents.1748475854.ip-10-192-11-39.8503.1\",\n",
    "        \"split_3\": \"./results/yolo/training/split_3/events.out.tfevents.1748476565.ip-10-192-11-39.8503.2\",\n",
    "        \"split_4\": \"./results/yolo/training/split_4/events.out.tfevents.1748477314.ip-10-192-11-39.8503.3\"\n",
    "    }\n",
    "}"
   ]
  },
  {
   "cell_type": "code",
   "execution_count": 4,
   "metadata": {},
   "outputs": [],
   "source": [
    "data = {\n",
    "    \"ssd\": {\n",
    "        \"split_1\": EventAccumulator(paths[\"ssd\"][\"split_1\"]).Reload(),\n",
    "        \"split_2\": EventAccumulator(paths[\"ssd\"][\"split_2\"]).Reload(),\n",
    "        \"split_3\": EventAccumulator(paths[\"ssd\"][\"split_3\"]).Reload(),\n",
    "        \"split_4\": EventAccumulator(paths[\"ssd\"][\"split_4\"]).Reload()\n",
    "    },\n",
    "    \"yolo\": {\n",
    "        \"split_1\": EventAccumulator(paths[\"yolo\"][\"split_1\"]).Reload(),\n",
    "        \"split_2\": EventAccumulator(paths[\"yolo\"][\"split_2\"]).Reload(),\n",
    "        \"split_3\": EventAccumulator(paths[\"yolo\"][\"split_3\"]).Reload(),\n",
    "        \"split_4\": EventAccumulator(paths[\"yolo\"][\"split_4\"]).Reload()\n",
    "    }\n",
    "}"
   ]
  },
  {
   "cell_type": "code",
   "execution_count": 5,
   "metadata": {},
   "outputs": [
    {
     "data": {
      "text/plain": [
       "['Loss/train',\n",
       " 'mAP/val',\n",
       " 'mAP/val_50',\n",
       " 'Precision/val',\n",
       " 'Recall/val',\n",
       " 'IoU/val']"
      ]
     },
     "execution_count": 5,
     "metadata": {},
     "output_type": "execute_result"
    }
   ],
   "source": [
    "ssd_tags = data['ssd']['split_1'].Tags()['scalars']\n",
    "ssd_tags"
   ]
  },
  {
   "cell_type": "code",
   "execution_count": 6,
   "metadata": {},
   "outputs": [],
   "source": [
    "custom_titles = {\n",
    "    'mAP/val': \"SSD mAP\",\n",
    "    'Precision/val': \"SSD Precision\",\n",
    "    'Recall/val': \"SSD Recall\",\n",
    "    'IoU/val': \"SSD IoU\",\n",
    "}\n",
    "\n",
    "for ssd_tag in ssd_tags:\n",
    "    \n",
    "    df = pd.DataFrame()\n",
    "    #set a column for each split\n",
    "    for split in data['ssd']:\n",
    "        split_data_complete_run = []\n",
    "        split_data = data['ssd'][split].Scalars(ssd_tag)\n",
    "        for event_data in split_data:\n",
    "            #split_data_complete_run[event_data.step] = event_data.value\n",
    "            split_data_complete_run.append((event_data.step, event_data.value))\n",
    "        \n",
    "        # convert to dataframe\n",
    "        split_data_complete_run = pd.DataFrame(split_data_complete_run, columns=['step', split])\n",
    "        #set index to step\n",
    "        split_data_complete_run.set_index('step', inplace=True)\n",
    "        #merge with df\n",
    "        if df.empty:\n",
    "            df = split_data_complete_run\n",
    "        else:\n",
    "            df = df.join(split_data_complete_run, how='outer')\n",
    "\n",
    "    #plot the data\n",
    "    plt.figure(figsize=(10, 6)) \n",
    "    sns.lineplot(\n",
    "        data=df,\n",
    "        dashes=False,\n",
    "        alpha=0.5\n",
    "    )\n",
    "\n",
    "    \n",
    "    # create a mean column, it is the mean of all the splits\n",
    "    mean = df.mean(axis=1)\n",
    "    sns.lineplot(\n",
    "        data=mean,\n",
    "        label=\"Mean\",\n",
    "        linewidth=2,\n",
    "        color=\"red\"\n",
    "    )\n",
    "\n",
    "    plt.title(custom_titles[ssd_tag] if ssd_tag in custom_titles else ssd_tag)\n",
    "    plt.xlabel('Step')\n",
    "    plt.ylabel('Value')\n",
    "    plt.legend(title='Split')\n",
    "    plt.grid(True)\n",
    "    plt.tight_layout()\n",
    "    # save the image file into results/plots\n",
    "    name = ssd_tag.replace('/', '_').replace(' ', '_')\n",
    "    plt.savefig(f\"./results/plots/ssd_{name}.png\")\n",
    "    plt.close()"
   ]
  },
  {
   "cell_type": "code",
   "execution_count": 8,
   "metadata": {},
   "outputs": [
    {
     "data": {
      "text/plain": [
       "['train/box_loss',\n",
       " 'train/cls_loss',\n",
       " 'train/dfl_loss',\n",
       " 'lr/pg0',\n",
       " 'lr/pg1',\n",
       " 'lr/pg2',\n",
       " 'metrics/precision(B)',\n",
       " 'metrics/recall(B)',\n",
       " 'metrics/mAP50(B)',\n",
       " 'metrics/mAP50-95(B)',\n",
       " 'val/box_loss',\n",
       " 'val/cls_loss',\n",
       " 'val/dfl_loss']"
      ]
     },
     "execution_count": 8,
     "metadata": {},
     "output_type": "execute_result"
    }
   ],
   "source": [
    "yolo_tags = data['yolo']['split_1'].Tags()['scalars']\n",
    "yolo_tags"
   ]
  },
  {
   "cell_type": "code",
   "execution_count": 9,
   "metadata": {},
   "outputs": [],
   "source": [
    "custom_titles = {\n",
    "    'metrics/precision(B)': \"YOLO Precision\",\n",
    "    'metrics/recall(B)': \"YOLO Recall\",\n",
    "    'metrics/mAP50(B)': \"YOLO mAP\",\n",
    "}\n",
    "\n",
    "for yolo_tag in yolo_tags:\n",
    "    \n",
    "    df = pd.DataFrame()\n",
    "    #set a column for each split\n",
    "    for split in data['yolo']:\n",
    "        split_data_complete_run = []\n",
    "        split_data = data['yolo'][split].Scalars(yolo_tag)\n",
    "        for event_data in split_data:\n",
    "            #split_data_complete_run[event_data.step] = event_data.value\n",
    "            split_data_complete_run.append((event_data.step, event_data.value))\n",
    "        \n",
    "        # convert to dataframe\n",
    "        split_data_complete_run = pd.DataFrame(split_data_complete_run, columns=['step', split])\n",
    "        #set index to step\n",
    "        split_data_complete_run.set_index('step', inplace=True)\n",
    "        #merge with df\n",
    "        if df.empty:\n",
    "            df = split_data_complete_run\n",
    "        else:\n",
    "            df = df.join(split_data_complete_run, how='outer')\n",
    "\n",
    "    #plot the data\n",
    "    plt.figure(figsize=(10, 6)) \n",
    "    sns.lineplot(\n",
    "        data=df,\n",
    "        dashes=False,\n",
    "        alpha=0.5\n",
    "    )\n",
    "\n",
    "    \n",
    "    # create a mean column, it is the mean of all the splits\n",
    "    mean = df.mean(axis=1)\n",
    "    sns.lineplot(\n",
    "        data=mean,\n",
    "        label=\"Mean\",\n",
    "        linewidth=2,\n",
    "        color=\"red\"\n",
    "    )\n",
    "\n",
    "    plt.title(custom_titles[yolo_tag] if yolo_tag in custom_titles else yolo_tag)\n",
    "    plt.xlabel('Step')\n",
    "    plt.ylabel('Value')\n",
    "    plt.legend(title='Split')\n",
    "    plt.grid(True)\n",
    "    plt.tight_layout()\n",
    "\n",
    "    # save the image file into results/plots\n",
    "    name = yolo_tag.replace('/', '_').replace(' ', '_')\n",
    "    plt.savefig(f\"./results/plots/yolo_{name}.png\")\n",
    "    plt.close()"
   ]
  }
 ],
 "metadata": {
  "language_info": {
   "name": "python"
  }
 },
 "nbformat": 4,
 "nbformat_minor": 2
}
